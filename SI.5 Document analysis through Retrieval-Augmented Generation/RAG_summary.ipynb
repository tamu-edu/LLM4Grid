{
 "cells": [
  {
   "cell_type": "code",
   "execution_count": 1,
   "metadata": {
    "id": "1s--mfl-BJ5A"
   },
   "outputs": [],
   "source": [
    "from langchain.chains import RetrievalQA\n",
    "from langchain.chat_models import ChatOpenAI\n",
    "from langchain.document_loaders import TextLoader\n",
    "from langchain.vectorstores import DocArrayInMemorySearch\n",
    "from IPython.display import display, Markdown\n",
    "from langchain.text_splitter import CharacterTextSplitter\n",
    "from langchain.embeddings import OpenAIEmbeddings, HuggingFaceInstructEmbeddings\n",
    "from langchain.vectorstores import FAISS\n",
    "from langchain.memory import ConversationBufferMemory\n",
    "from langchain.chains import ConversationalRetrievalChain\n",
    "from langchain.indexes import VectorstoreIndexCreator\n",
    "from langchain_experimental.agents.agent_toolkits.csv.base import create_csv_agent\n",
    "from langchain.agents.agent_types import AgentType\n",
    "from langchain.memory import ConversationBufferMemory\n",
    "from langchain.text_splitter import CharacterTextSplitter\n",
    "import tiktoken\n",
    "import os\n",
    "import PyPDF2\n",
    "import warnings\n",
    "warnings.filterwarnings('ignore')"
   ]
  },
  {
   "cell_type": "code",
   "execution_count": 2,
   "metadata": {
    "id": "rtsMFbg_BP93"
   },
   "outputs": [],
   "source": [
    "class Document:\n",
    "    def __init__(self, text):\n",
    "        self.page_content = text\n",
    "        self.metadata = {} \n",
    "\n",
    "class PDFTextLoader:\n",
    "    def __init__(self, file_path):\n",
    "        self.file_path = file_path\n",
    "\n",
    "    def load(self):\n",
    "        documents = []\n",
    "        with open(self.file_path, \"rb\") as file:\n",
    "            reader = PyPDF2.PdfReader(file)\n",
    "            for page in reader.pages:\n",
    "                text = page.extract_text()\n",
    "                if text:\n",
    "                    documents.append(Document(text))\n",
    "        return documents\n",
    "\n",
    "txt_file_path = 'file1.pdf'\n",
    "loader = PDFTextLoader(file_path=txt_file_path)\n",
    "documents = loader.load()\n",
    "text_splitter = CharacterTextSplitter(chunk_size=1000, chunk_overlap=200)\n",
    "data = text_splitter.split_documents(documents)"
   ]
  },
  {
   "cell_type": "code",
   "execution_count": 3,
   "metadata": {
    "colab": {
     "base_uri": "https://localhost:8080/"
    },
    "id": "wb30MdMQBJ7p",
    "outputId": "447344fb-ad71-4b1f-ce25-e32ca5452aab"
   },
   "outputs": [],
   "source": [
    "os.environ[\"OPENAI_API_KEY\"] = \"Your OPENAI_API_KEY\""
   ]
  },
  {
   "cell_type": "code",
   "execution_count": 4,
   "metadata": {
    "id": "qZOmPg9pBxHP"
   },
   "outputs": [
    {
     "name": "stderr",
     "output_type": "stream",
     "text": [
      "/scratch/user/fatemehdoudi/.conda/envs/in-context-learning/lib/python3.8/site-packages/langchain_core/_api/deprecation.py:117: LangChainDeprecationWarning: The class `langchain_community.embeddings.openai.OpenAIEmbeddings` was deprecated in langchain-community 0.0.9 and will be removed in 0.2.0. An updated version of the class exists in the langchain-openai package and should be used instead. To use it run `pip install -U langchain-openai` and import as `from langchain_openai import OpenAIEmbeddings`.\n",
      "  warn_deprecated(\n",
      "/scratch/user/fatemehdoudi/.conda/envs/in-context-learning/lib/python3.8/site-packages/langchain_core/_api/deprecation.py:117: LangChainDeprecationWarning: The class `langchain_community.chat_models.openai.ChatOpenAI` was deprecated in langchain-community 0.0.10 and will be removed in 0.2.0. An updated version of the class exists in the langchain-openai package and should be used instead. To use it run `pip install -U langchain-openai` and import as `from langchain_openai import ChatOpenAI`.\n",
      "  warn_deprecated(\n"
     ]
    }
   ],
   "source": [
    "embeddings = OpenAIEmbeddings()\n",
    "vectorstore = FAISS.from_documents(data, embedding=embeddings)\n",
    "llm = ChatOpenAI(temperature=0.7, model_name=\"gpt-4\")\n",
    "memory = ConversationBufferMemory(memory_key='chat_history', return_messages=True)\n",
    "conversation_chain = ConversationalRetrievalChain.from_llm(llm=llm, chain_type=\"stuff\", retriever=vectorstore.as_retriever(), memory=memory)"
   ]
  },
  {
   "cell_type": "code",
   "execution_count": 5,
   "metadata": {
    "colab": {
     "base_uri": "https://localhost:8080/",
     "height": 70
    },
    "id": "T_il9FdyBy6r",
    "outputId": "c1a8630e-7598-44f0-f297-08079ca1555b"
   },
   "outputs": [
    {
     "name": "stderr",
     "output_type": "stream",
     "text": [
      "/scratch/user/fatemehdoudi/.conda/envs/in-context-learning/lib/python3.8/site-packages/langchain_core/_api/deprecation.py:117: LangChainDeprecationWarning: The function `__call__` was deprecated in LangChain 0.1.0 and will be removed in 0.2.0. Use invoke instead.\n",
      "  warn_deprecated(\n"
     ]
    },
    {
     "data": {
      "text/plain": [
       "'This document is a report from the United States Department of Energy, titled \"2020 Smart Grid System Report\", published in January 2022. The report provides an in-depth analysis of the smart grid system, factors shaping its deployment, investments, technology applications, and the challenges it faces. It presents a comprehensive table of contents, which includes legislative mandates, evolution to digital sensing and control, technology availability, federal and state policies, new participants and evolving business models, resilience, implications for grid modernization, and more. It also addresses issues like coordination, integrated planning, energy justice, research, development, demonstration needs, interoperability, cybersecurity, and workforce. The document also contains references to various other reports and resources related to the topic. The report\\'s intended recipients are specific members of Congress, as mentioned in the introductory message from the Secretary.'"
      ]
     },
     "execution_count": 5,
     "metadata": {},
     "output_type": "execute_result"
    }
   ],
   "source": [
    "query = \"Summerize this document!\"\n",
    "result = conversation_chain({\"question\": query})\n",
    "answer = result[\"answer\"]\n",
    "answer"
   ]
  },
  {
   "cell_type": "code",
   "execution_count": 6,
   "metadata": {},
   "outputs": [
    {
     "name": "stdout",
     "output_type": "stream",
     "text": [
      "This Department of Energy document is a Smart Grid System Report from 2020. It provides a comprehensive view of the evolving electricity grid, from its initial stages of centralized generation and distribution, to its current status as an ultra-large-scale (ULS) system with decentralized data, development, and control. \n",
      "\n",
      "The report underlines the complexity inherent in the electric grid due to increasing consumer interaction and the influx of technology providers offering grid services traditionally supplied by utilities. It emphasizes the need for advanced technological solutions and informed decision-making to modernize the grid and meet future demands. \n",
      "\n",
      "The report also discusses the challenges associated with integrating renewable generation and distributed energy resources, such as wind and solar power, into the grid. These resources, which are asynchronously connected to the grid, pose new opportunities and challenges in terms of grid control and response to abnormal grid conditions. Power electronics devices like inverters are expected to provide system stability as synchronous resources are replaced by asynchronous resources. \n",
      "\n",
      "The report mentions efforts, like the Inverter-Based Resource Performance Task Force, to ensure the appropriate operation of inverter-based resources. It also highlights the need for grid designers to consider the structure of control systems and the coordination required among various elements to maintain effective grid operations as the number of grid-edge devices grows. \n",
      "\n",
      "In conclusion, the report underscores the need for strategies that consider reliability, efficiency, security, resilience, and affordability in the face of continuous technological advancement, policy shifts, and changing customer expectations.\n"
     ]
    }
   ],
   "source": [
    "query = \"Summerize this document from the perspective of a power system professional.\"\n",
    "result = conversation_chain({\"question\": query})\n",
    "answer = result[\"answer\"]\n",
    "print(answer)"
   ]
  },
  {
   "cell_type": "code",
   "execution_count": null,
   "metadata": {},
   "outputs": [],
   "source": []
  }
 ],
 "metadata": {
  "accelerator": "GPU",
  "colab": {
   "gpuType": "V100",
   "provenance": []
  },
  "kernelspec": {
   "display_name": "Python 3 (ipykernel)",
   "language": "python",
   "name": "python3"
  },
  "language_info": {
   "codemirror_mode": {
    "name": "ipython",
    "version": 3
   },
   "file_extension": ".py",
   "mimetype": "text/x-python",
   "name": "python",
   "nbconvert_exporter": "python",
   "pygments_lexer": "ipython3",
   "version": "3.8.12"
  }
 },
 "nbformat": 4,
 "nbformat_minor": 4
}
